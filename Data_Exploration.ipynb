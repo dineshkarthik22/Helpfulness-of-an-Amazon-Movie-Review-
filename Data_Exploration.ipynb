{
 "cells": [
  {
   "cell_type": "code",
   "execution_count": 1,
   "id": "779b1557",
   "metadata": {},
   "outputs": [],
   "source": [
    "import numpy as np\n",
    "import pandas as pd\n",
    "import seaborn as sns\n",
    "import json\n",
    "from sklearn import linear_model\n",
    "import chardet\n",
    "import gzip\n",
    "import tarfile\n",
    "import matplotlib.pyplot as plt\n",
    "from collections import defaultdict\n",
    "import statistics\n",
    "from gensim.models import Word2Vec\n",
    "from nltk.stem.porter import *\n",
    "from sklearn import linear_model\n",
    "import string\n",
    "import nltk\n",
    "import random\n",
    "from nltk.corpus import stopwords\n",
    "import datetime\n",
    "from dateutil import parser\n",
    "#from fastFM import als"
   ]
  },
  {
   "cell_type": "code",
   "execution_count": 2,
   "id": "f15d714b",
   "metadata": {},
   "outputs": [],
   "source": [
    "#conda install -c conda-forge fastFM"
   ]
  },
  {
   "cell_type": "code",
   "execution_count": 3,
   "id": "8e6c7577",
   "metadata": {},
   "outputs": [],
   "source": [
    "def readJSON(path):\n",
    "    f = gzip.open(path, 'rt')\n",
    "    f.readline()\n",
    "    for l in f:\n",
    "        d = eval(l)\n",
    "        yield d"
   ]
  },
  {
   "cell_type": "code",
   "execution_count": 4,
   "id": "f68913ea",
   "metadata": {},
   "outputs": [],
   "source": [
    "def parseData(fname):\n",
    "    with open(fname, 'r') as file:\n",
    "        for line in file:\n",
    "            yield json.loads(line)"
   ]
  },
  {
   "cell_type": "code",
   "execution_count": null,
   "id": "10c04f12",
   "metadata": {},
   "outputs": [],
   "source": [
    "f = gzip.open(\"movies.txt.gz\", 'rt')\n",
    "content = f.read()\n",
    "#dataset = list(read(\"movies.txt.gz\"))"
   ]
  },
  {
   "cell_type": "code",
   "execution_count": null,
   "id": "daf81bb4",
   "metadata": {},
   "outputs": [],
   "source": [
    "len(dataset)"
   ]
  },
  {
   "cell_type": "code",
   "execution_count": null,
   "id": "8e639713",
   "metadata": {},
   "outputs": [],
   "source": [
    "dataset[0], dataset[1]"
   ]
  },
  {
   "cell_type": "code",
   "execution_count": null,
   "id": "96732c55",
   "metadata": {},
   "outputs": [],
   "source": [
    "# Assuming 'dataset' is your list of dictionaries\n",
    "max_unix_review_time = max(dataset, key=lambda x: x['unixReviewTime'])['unixReviewTime']\n",
    "\n",
    "print(\"Max Unix Review Time:\", max_unix_review_time)"
   ]
  },
  {
   "cell_type": "code",
   "execution_count": null,
   "id": "2d0777a6",
   "metadata": {},
   "outputs": [],
   "source": [
    "# Assuming 'dataset' is your list of dictionaries\n",
    "min_unix_review_time = min(dataset, key=lambda x: x['unixReviewTime'])['unixReviewTime']\n",
    "\n",
    "print(\"Min Unix Review Time:\", min_unix_review_time)"
   ]
  },
  {
   "cell_type": "code",
   "execution_count": null,
   "id": "cdeb8e2e",
   "metadata": {},
   "outputs": [],
   "source": [
    "#Pandas Conversion"
   ]
  },
  {
   "cell_type": "code",
   "execution_count": null,
   "id": "ae75c031",
   "metadata": {},
   "outputs": [],
   "source": [
    "df = pd.DataFrame(dataset)"
   ]
  },
  {
   "cell_type": "code",
   "execution_count": null,
   "id": "e486cbfb",
   "metadata": {},
   "outputs": [],
   "source": [
    "df.info()"
   ]
  },
  {
   "cell_type": "code",
   "execution_count": null,
   "id": "666ebeb1",
   "metadata": {},
   "outputs": [],
   "source": []
  },
  {
   "cell_type": "markdown",
   "id": "c972307e",
   "metadata": {},
   "source": [
    "Never touch the above code"
   ]
  },
  {
   "cell_type": "code",
   "execution_count": null,
   "id": "5c01363b",
   "metadata": {},
   "outputs": [],
   "source": [
    "df.shape"
   ]
  },
  {
   "cell_type": "code",
   "execution_count": null,
   "id": "fcc0c5dc",
   "metadata": {},
   "outputs": [],
   "source": [
    "df['']"
   ]
  },
  {
   "cell_type": "code",
   "execution_count": null,
   "id": "e0e1221e",
   "metadata": {},
   "outputs": [],
   "source": [
    "sns.set(style='whitegrid', palette=\"deep\", font_scale=1.1, rc={\"figure.figsize\": [8, 5]})"
   ]
  },
  {
   "cell_type": "code",
   "execution_count": null,
   "id": "2dfefd6c",
   "metadata": {},
   "outputs": [],
   "source": [
    "sns.distplot(\n",
    "    df['overall'], norm_hist=False, kde=False, bins=50, hist_kws={\"alpha\": 1}\n",
    ").set(xlabel='Overall Rating', ylabel='Count');"
   ]
  },
  {
   "cell_type": "code",
   "execution_count": null,
   "id": "4e645998",
   "metadata": {},
   "outputs": [],
   "source": [
    "numerical = ['overall','unixReviewTime']\n",
    "categorical = ['reviewerName','asin']"
   ]
  },
  {
   "cell_type": "code",
   "execution_count": null,
   "id": "9455f5b4",
   "metadata": {},
   "outputs": [],
   "source": [
    "asg = df.groupby('asin')\n",
    "usg = df.groupby('reviewerID')"
   ]
  },
  {
   "cell_type": "code",
   "execution_count": null,
   "id": "1f1e9957",
   "metadata": {},
   "outputs": [],
   "source": [
    "#sns.countplot(df.groupby('asin'))"
   ]
  },
  {
   "cell_type": "code",
   "execution_count": null,
   "id": "3cce514d",
   "metadata": {},
   "outputs": [],
   "source": [
    "asg.get_group('0005089549')"
   ]
  },
  {
   "cell_type": "code",
   "execution_count": null,
   "id": "7851a0f6",
   "metadata": {},
   "outputs": [],
   "source": [
    "usg.groups"
   ]
  },
  {
   "cell_type": "code",
   "execution_count": null,
   "id": "79ae7ece",
   "metadata": {},
   "outputs": [],
   "source": [
    "usg.get_group('A2M1CU2IRZG0K9')"
   ]
  },
  {
   "cell_type": "code",
   "execution_count": null,
   "id": "b03135a8",
   "metadata": {},
   "outputs": [],
   "source": [
    "suml = [a for a in dataset if a['reviewerID'] == 'A2M1CU2IRZG0K9']\n",
    "#suml"
   ]
  },
  {
   "cell_type": "code",
   "execution_count": null,
   "id": "c19d9815",
   "metadata": {},
   "outputs": [],
   "source": [
    "suml"
   ]
  },
  {
   "cell_type": "code",
   "execution_count": null,
   "id": "1fbd83d2",
   "metadata": {},
   "outputs": [],
   "source": [
    "dataset2 = list(parseData(\"Electronics_5.json\"))"
   ]
  },
  {
   "cell_type": "code",
   "execution_count": null,
   "id": "2e531e7f",
   "metadata": {},
   "outputs": [],
   "source": [
    "len(dataset2)"
   ]
  },
  {
   "cell_type": "code",
   "execution_count": null,
   "id": "b8b63a47",
   "metadata": {},
   "outputs": [],
   "source": [
    "dataset2[:5]"
   ]
  },
  {
   "cell_type": "code",
   "execution_count": null,
   "id": "d9339085",
   "metadata": {},
   "outputs": [],
   "source": [
    "dataset[100000]"
   ]
  },
  {
   "cell_type": "code",
   "execution_count": null,
   "id": "e5e35c03",
   "metadata": {},
   "outputs": [],
   "source": [
    "nltk.download('stopwords')"
   ]
  },
  {
   "cell_type": "markdown",
   "id": "e5130bf2",
   "metadata": {},
   "source": [
    "Movie Recommendation"
   ]
  },
  {
   "cell_type": "code",
   "execution_count": null,
   "id": "ebabc514",
   "metadata": {},
   "outputs": [],
   "source": [
    "#Popular movie reviews\n",
    "rev_count = defaultdict(list)\n",
    "for a in dataset:\n",
    "    if a['asin'] in rev_count: rev_count[a['asin']] += 1\n",
    "    else: rev_count[a['asin']] = 1"
   ]
  },
  {
   "cell_type": "code",
   "execution_count": null,
   "id": "6828237e",
   "metadata": {},
   "outputs": [],
   "source": [
    "rev_count['6300214338']"
   ]
  },
  {
   "cell_type": "code",
   "execution_count": null,
   "id": "f117f7cb",
   "metadata": {},
   "outputs": [],
   "source": [
    "min(rev_count.values()), max(rev_count.values())"
   ]
  },
  {
   "cell_type": "code",
   "execution_count": null,
   "id": "37529b24",
   "metadata": {},
   "outputs": [],
   "source": [
    "val_arr = list(rev_count.values())"
   ]
  },
  {
   "cell_type": "code",
   "execution_count": null,
   "id": "74fd86b2",
   "metadata": {},
   "outputs": [],
   "source": [
    "plt.figure(figsize=(10, 6))\n",
    "sns.boxplot(x = val_arr)\n",
    "plt.xlabel('Number of Reviews')\n",
    "plt.show()"
   ]
  },
  {
   "cell_type": "code",
   "execution_count": null,
   "id": "d90489e4",
   "metadata": {},
   "outputs": [],
   "source": [
    "pop_movies = [b for b in rev_count if rev_count[b] > 50]"
   ]
  },
  {
   "cell_type": "code",
   "execution_count": null,
   "id": "3796ca3a",
   "metadata": {},
   "outputs": [],
   "source": [
    "len(pop_movies)"
   ]
  },
  {
   "cell_type": "code",
   "execution_count": null,
   "id": "67ec4f7d",
   "metadata": {},
   "outputs": [],
   "source": [
    "pop_ds = [d for d in dataset if rev_count[d['asin']] > 1000]"
   ]
  },
  {
   "cell_type": "code",
   "execution_count": null,
   "id": "ed1855a8",
   "metadata": {},
   "outputs": [],
   "source": [
    "len(pop_ds)"
   ]
  },
  {
   "cell_type": "code",
   "execution_count": null,
   "id": "37a0f3f5",
   "metadata": {},
   "outputs": [],
   "source": [
    "sum(k['overall']==1.0 for k in pop_ds)"
   ]
  },
  {
   "cell_type": "code",
   "execution_count": null,
   "id": "4b39c846",
   "metadata": {},
   "outputs": [],
   "source": [
    "sum(k['overall']==2.0 for k in pop_ds)"
   ]
  },
  {
   "cell_type": "code",
   "execution_count": null,
   "id": "6e4f0bb2",
   "metadata": {},
   "outputs": [],
   "source": [
    "sum(k['overall']==3.0 for k in pop_ds)"
   ]
  },
  {
   "cell_type": "code",
   "execution_count": null,
   "id": "2d5fbbc8",
   "metadata": {},
   "outputs": [],
   "source": [
    "sum(k['overall']==4.0 for k in pop_ds)"
   ]
  },
  {
   "cell_type": "code",
   "execution_count": null,
   "id": "ba24c102",
   "metadata": {},
   "outputs": [],
   "source": [
    "sum(k['overall']==5.0 for k in pop_ds)"
   ]
  },
  {
   "cell_type": "code",
   "execution_count": null,
   "id": "ca9da14f",
   "metadata": {},
   "outputs": [],
   "source": [
    "#Ratio of 1,5,2 with 2M total entries\n",
    "\n",
    "116583/2235675, 1347585/2235675, 107736/2235675"
   ]
  },
  {
   "cell_type": "code",
   "execution_count": null,
   "id": "fb94402b",
   "metadata": {},
   "outputs": [],
   "source": [
    "#Ratio of 1,5,2 with 638K entries\n",
    "\n",
    "30041/638665, 389843/638665, 29198/638665"
   ]
  },
  {
   "cell_type": "code",
   "execution_count": null,
   "id": "63773f39",
   "metadata": {},
   "outputs": [],
   "source": [
    "pop_ds[1000]"
   ]
  },
  {
   "cell_type": "code",
   "execution_count": null,
   "id": "6fc3b12c",
   "metadata": {},
   "outputs": [],
   "source": [
    "#Scatter plot overall vs review time\n",
    "review_ratings = [entry['overall'] for entry in pop_ds]\n",
    "review_times = [entry['unixReviewTime'] for entry in pop_ds]\n",
    "\n",
    "# Create a scatter plot using Seaborn\n",
    "plt.figure(figsize=(10, 6))\n",
    "sns.scatterplot(x=review_times, y=review_ratings, alpha=1.0)  # Adding alpha for transparency\n",
    "\n",
    "# Adding labels and title\n",
    "plt.title('Review Rating vs. Unix Review Time for All Movies')\n",
    "plt.xlabel('Unix Review Time')\n",
    "plt.ylabel('Review Rating')\n",
    "\n",
    "# Display the plot\n",
    "plt.show()"
   ]
  },
  {
   "cell_type": "code",
   "execution_count": null,
   "id": "ff1d897f",
   "metadata": {},
   "outputs": [],
   "source": [
    "#Linear line plot Time vs Rating\n",
    "plt.figure(figsize=(10, 6))\n",
    "sns.lineplot(x=review_times, y=review_ratings, ci=None) \n",
    "\n",
    "# Adding labels and title\n",
    "plt.title('Review Rating vs. Unix Review Time for All Movies')\n",
    "plt.xlabel('Unix Review Time')\n",
    "plt.ylabel('Review Rating')\n",
    "\n",
    "# Display the plot\n",
    "plt.show()"
   ]
  },
  {
   "cell_type": "code",
   "execution_count": null,
   "id": "8b6a4ee4",
   "metadata": {},
   "outputs": [],
   "source": [
    "selected_asin = '0782010792'\n",
    "\n",
    "# Filter the dataset for the specific asin\n",
    "selected_data = [entry for entry in pop_ds if entry['asin'] == selected_asin]\n",
    "\n",
    "# Extract relevant data for the plot\n",
    "review_ratings = [entry['overall'] for entry in selected_data]\n",
    "review_times = [entry['unixReviewTime'] for entry in selected_data]\n",
    "\n",
    "# Create a scatter plot using Seaborn\n",
    "plt.figure(figsize=(10, 6))\n",
    "sns.lineplot(x=review_times, y=review_ratings)\n",
    "\n",
    "# Adding labels and title\n",
    "plt.title('Review Rating vs. Unix Review Time')\n",
    "plt.xlabel('Unix Review Time')\n",
    "plt.ylabel('Review Rating')\n",
    "\n",
    "# Display the plot\n",
    "plt.show()"
   ]
  },
  {
   "cell_type": "code",
   "execution_count": null,
   "id": "3f671b07",
   "metadata": {},
   "outputs": [],
   "source": [
    "pop_df = pd.DataFrame(pop_ds)\n",
    "\n",
    "# Convert Unix Review Time to datetime\n",
    "pop_df['review_date'] = pd.to_datetime(pop_df['unixReviewTime'], unit='s')\n",
    "\n",
    "# Create a histogram using Seaborn\n",
    "plt.figure(figsize=(12, 6))\n",
    "sns.histplot(data=pop_df, x='review_date', y='overall', bins='auto', cbar=True, cmap='viridis')\n",
    "\n",
    "# Adding labels and title\n",
    "plt.title('Distribution of Review Ratings over Time for All Movies')\n",
    "plt.xlabel('Review Date')\n",
    "plt.ylabel('Review Rating')\n",
    "\n",
    "# Display the plot\n",
    "plt.xticks(rotation=45, ha='right')  # Rotate x-axis labels for better readability\n",
    "plt.tight_layout()  # Adjust layout for better visualization\n",
    "plt.show()"
   ]
  },
  {
   "cell_type": "code",
   "execution_count": null,
   "id": "27e6d683",
   "metadata": {},
   "outputs": [],
   "source": [
    "one = [k for k in pop_ds if k['overall']==1.0]"
   ]
  },
  {
   "cell_type": "code",
   "execution_count": null,
   "id": "bac167d6",
   "metadata": {},
   "outputs": [],
   "source": [
    "len(one)"
   ]
  },
  {
   "cell_type": "code",
   "execution_count": null,
   "id": "340ab880",
   "metadata": {},
   "outputs": [],
   "source": [
    "one[100]"
   ]
  },
  {
   "cell_type": "code",
   "execution_count": null,
   "id": "259653e4",
   "metadata": {},
   "outputs": [],
   "source": [
    "selected_asin = '0790729628'\n",
    "\n",
    "# Convert list of dictionaries to a pandas DataFrame\n",
    "pop_df = pd.DataFrame(pop_ds)\n",
    "\n",
    "# Filter the dataset for the specific asin\n",
    "selected_data = pop_df[pop_df['asin'] == selected_asin]\n",
    "\n",
    "# Convert Unix Review Time to datetime and extract the date\n",
    "selected_data['review_date'] = pd.to_datetime(selected_data['unixReviewTime'], unit='s').dt.date\n",
    "\n",
    "# Create a simple line plot using Matplotlib\n",
    "plt.figure(figsize=(12, 6))\n",
    "plt.plot(selected_data['review_date'], selected_data['overall'], color='b')\n",
    "\n",
    "# Adding labels and title\n",
    "plt.title(f'Review Ratings over Time for Movie {selected_asin}')\n",
    "plt.xlabel('Review Date')\n",
    "plt.ylabel('Review Rating')\n",
    "\n",
    "# Display the plot\n",
    "plt.xticks(rotation=45, ha='right')  # Rotate x-axis labels for better readability\n",
    "plt.tight_layout()  # Adjust layout for better visualization\n",
    "plt.show()"
   ]
  },
  {
   "cell_type": "code",
   "execution_count": null,
   "id": "c1f4bf4d",
   "metadata": {},
   "outputs": [],
   "source": [
    "len(selected_data)"
   ]
  },
  {
   "cell_type": "code",
   "execution_count": null,
   "id": "8f0d86e5",
   "metadata": {},
   "outputs": [],
   "source": [
    "pop_ds[700]"
   ]
  },
  {
   "cell_type": "code",
   "execution_count": null,
   "id": "6d130ad9",
   "metadata": {},
   "outputs": [],
   "source": [
    "a = []\n",
    "for d in pop_ds:\n",
    "    review_text = d.get('reviewText', '')  # Use get to handle missing key\n",
    "    a.append(review_text)"
   ]
  },
  {
   "cell_type": "code",
   "execution_count": null,
   "id": "43c3a5cb",
   "metadata": {},
   "outputs": [],
   "source": [
    "len(a), len(pop_ds)"
   ]
  },
  {
   "cell_type": "code",
   "execution_count": null,
   "id": "ef3ae808",
   "metadata": {},
   "outputs": [],
   "source": [
    "wordCount = defaultdict(int)\n",
    "punctuation = set(string.punctuation)\n",
    "stemmer = PorterStemmer()\n",
    "for d in dataset:\n",
    "    r = ''.join([c.lower() for c in a if not c in punctuation])\n",
    "    for w in r.split():\n",
    "        w = stemmer.stem(w)\n",
    "        wordCount[w] += 1"
   ]
  },
  {
   "cell_type": "code",
   "execution_count": null,
   "id": "9b972b4e",
   "metadata": {},
   "outputs": [],
   "source": [
    "len(wordCount)"
   ]
  },
  {
   "cell_type": "code",
   "execution_count": null,
   "id": "8226b497",
   "metadata": {},
   "outputs": [],
   "source": [
    "counts = [(wordCount[w], w) for w in wordCount]\n",
    "counts.sort()\n",
    "counts.reverse()"
   ]
  },
  {
   "cell_type": "code",
   "execution_count": null,
   "id": "43e601bd",
   "metadata": {},
   "outputs": [],
   "source": [
    "counts[:10]"
   ]
  },
  {
   "cell_type": "code",
   "execution_count": null,
   "id": "6cbfe06f",
   "metadata": {},
   "outputs": [],
   "source": []
  },
  {
   "cell_type": "code",
   "execution_count": null,
   "id": "d6378944",
   "metadata": {},
   "outputs": [],
   "source": []
  },
  {
   "cell_type": "code",
   "execution_count": null,
   "id": "fa11735d",
   "metadata": {},
   "outputs": [],
   "source": [
    "#Fresh Implementation"
   ]
  },
  {
   "cell_type": "code",
   "execution_count": null,
   "id": "888bb1c9",
   "metadata": {},
   "outputs": [],
   "source": [
    "#Creating a list of popular movie with more than 2k reviews\n",
    "pop_movies = [d for d in dataset if rev_count[d['asin']] > 2000]\n",
    "len(pop_movies)"
   ]
  },
  {
   "cell_type": "code",
   "execution_count": null,
   "id": "31e1c48a",
   "metadata": {},
   "outputs": [],
   "source": [
    "pop_movies[10009]"
   ]
  },
  {
   "cell_type": "code",
   "execution_count": null,
   "id": "3a12c334",
   "metadata": {},
   "outputs": [],
   "source": [
    "#pop_movies = random.shuffle(pop_movies)"
   ]
  },
  {
   "cell_type": "code",
   "execution_count": null,
   "id": "08ea0738",
   "metadata": {},
   "outputs": [],
   "source": [
    "#Fetch the reviews of the popular movies\n",
    "review_text = [d.get('reviewText') for d in pop_movies[:170000]]"
   ]
  },
  {
   "cell_type": "code",
   "execution_count": null,
   "id": "78080b4f",
   "metadata": {},
   "outputs": [],
   "source": [
    "#Creating Stop words list\n",
    "StopWords = stopwords.words(\"english\")"
   ]
  },
  {
   "cell_type": "code",
   "execution_count": null,
   "id": "6dd86c4a",
   "metadata": {},
   "outputs": [],
   "source": [
    "len(StopWords)"
   ]
  },
  {
   "cell_type": "code",
   "execution_count": null,
   "id": "f436dadd",
   "metadata": {},
   "outputs": [],
   "source": [
    "wordCount = defaultdict(int)\n",
    "punctuation = set(string.punctuation)\n",
    "stemmer = PorterStemmer()\n",
    "for w in review_text:\n",
    "    if w:\n",
    "        #Being case-insensitive & removing punctuations\n",
    "        r = ''.join([c for c in w.lower() if not c in punctuation])\n",
    "        ws = r.split()\n",
    "        for k in ws:\n",
    "            #Removing stop words in a review\n",
    "            if k not in StopWords:\n",
    "                #Fetching Stem words in a review\n",
    "                k = stemmer.stem(k)\n",
    "                wordCount[k] += 1\n",
    "\n",
    "len(wordCount)"
   ]
  },
  {
   "cell_type": "code",
   "execution_count": null,
   "id": "421ee1f6",
   "metadata": {},
   "outputs": [],
   "source": [
    "#Count of the most used words\n",
    "counts = [(wordCount[w], w) for w in wordCount]\n",
    "counts.sort()\n",
    "counts.reverse()"
   ]
  },
  {
   "cell_type": "code",
   "execution_count": null,
   "id": "d743d5e4",
   "metadata": {},
   "outputs": [],
   "source": [
    "counts[:10]"
   ]
  },
  {
   "cell_type": "code",
   "execution_count": null,
   "id": "21a27660",
   "metadata": {},
   "outputs": [],
   "source": [
    "#Bases on word count creating unique word set\n",
    "words = [x[1] for x in counts[:5000]]\n",
    "len(words)"
   ]
  },
  {
   "cell_type": "code",
   "execution_count": null,
   "id": "f4d710ca",
   "metadata": {},
   "outputs": [],
   "source": [
    "#Assigning weights to words\n",
    "wordId = dict(zip(words, range(len(words))))\n",
    "wordSet = set(words)"
   ]
  },
  {
   "cell_type": "code",
   "execution_count": null,
   "id": "4b0f94fb",
   "metadata": {},
   "outputs": [],
   "source": [
    "#Defining feature vector\n",
    "def feature(datum):\n",
    "    feat = [0]*len(words)\n",
    "    review_text_2 = datum.get('reviewText')\n",
    "    if review_text_2:\n",
    "        r = ''.join([c for c in review_text_2.lower() if not c in punctuation])\n",
    "        ws = r.split()\n",
    "        for w in ws:\n",
    "            w = stemmer.stem(w)\n",
    "            if w in words:\n",
    "                feat[wordId[w]] += 1\n",
    "    feat.append(1) #offset\n",
    "    return feat"
   ]
  },
  {
   "cell_type": "code",
   "execution_count": null,
   "id": "ff74465d",
   "metadata": {},
   "outputs": [],
   "source": [
    "X_train = [feature(d) for d in pop_movies[:170000]]"
   ]
  },
  {
   "cell_type": "code",
   "execution_count": null,
   "id": "64c6d3e7",
   "metadata": {},
   "outputs": [],
   "source": [
    "y_train = [d['overall'] for d in pop_movies[:170000]]"
   ]
  },
  {
   "cell_type": "code",
   "execution_count": null,
   "id": "8fa79916",
   "metadata": {},
   "outputs": [],
   "source": [
    "X_test = [feature(d) for d in pop_movies[170000:]]"
   ]
  },
  {
   "cell_type": "code",
   "execution_count": null,
   "id": "840c9a69",
   "metadata": {},
   "outputs": [],
   "source": [
    "y_test = [d['overall'] for d in pop_movies[170000:]]"
   ]
  },
  {
   "cell_type": "code",
   "execution_count": null,
   "id": "94348abc",
   "metadata": {},
   "outputs": [],
   "source": [
    "clf = linear_model.Ridge(1.0, fit_intercept=False) # MSE + 1.0 l2\n",
    "clf.fit(X_train, y_train)\n",
    "theta = clf.coef_\n",
    "predictions = clf.predict(X_test)"
   ]
  },
  {
   "cell_type": "code",
   "execution_count": null,
   "id": "e7e93934",
   "metadata": {},
   "outputs": [],
   "source": []
  },
  {
   "cell_type": "code",
   "execution_count": null,
   "id": "bec690a2",
   "metadata": {},
   "outputs": [],
   "source": [
    "# Failed FastFM trial\n",
    "#fm = als.FMRegression(n_iter=1000, init_stdev=0.1, rank=5, l2_reg_w=0.1, l2_reg_V=0.5)\n",
    "# fm.fit(X_train, y_train)"
   ]
  },
  {
   "cell_type": "code",
   "execution_count": null,
   "id": "7c76488a",
   "metadata": {},
   "outputs": [],
   "source": []
  },
  {
   "cell_type": "code",
   "execution_count": null,
   "id": "d3872da5",
   "metadata": {},
   "outputs": [],
   "source": [
    "wordSort = list(zip(theta[:-1], words))\n",
    "wordSort.sort()"
   ]
  },
  {
   "cell_type": "code",
   "execution_count": null,
   "id": "687ad126",
   "metadata": {},
   "outputs": [],
   "source": []
  },
  {
   "cell_type": "code",
   "execution_count": null,
   "id": "0787b86d",
   "metadata": {},
   "outputs": [],
   "source": [
    "#Feature 2 - Scaled Review Length\n",
    "rev_len = [len(d.get('reviewText')) for d in pop_movies[:170000] if d.get('reviewText')]\n",
    "rev_len = [(a-min(rev_len))/max(rev_len) for a in rev_len]"
   ]
  },
  {
   "cell_type": "code",
   "execution_count": null,
   "id": "7ddffe13",
   "metadata": {},
   "outputs": [],
   "source": [
    "min(rev_len), max(rev_len)"
   ]
  },
  {
   "cell_type": "code",
   "execution_count": null,
   "id": "f0e81f89",
   "metadata": {},
   "outputs": [],
   "source": [
    "#Feature 3 - Avg rating of movies"
   ]
  },
  {
   "cell_type": "code",
   "execution_count": null,
   "id": "8cc652ed",
   "metadata": {},
   "outputs": [],
   "source": [
    "users = set()       # User-id mapping\n",
    "movies = set()       # Movie-id mapping\n",
    "usersPerMovie = defaultdict(set) # Maps a movie to the users who rated it\n",
    "moviesPerUser = defaultdict(set) # Maps a user to the movies that they rated\n",
    "\n",
    "for d in pop_movies[:170000]:\n",
    "    u, m = d['reviewerID'], d['asin']\n",
    "    usersPerMovie[m].add(u)\n",
    "    moviesPerUser[u].add(m)\n",
    "    if u not in users:\n",
    "        users.add(u)\n",
    "    if m not in movies:\n",
    "        movies.add(m)"
   ]
  },
  {
   "cell_type": "code",
   "execution_count": null,
   "id": "4bece4e1",
   "metadata": {},
   "outputs": [],
   "source": [
    "len(users), len(movies)"
   ]
  },
  {
   "cell_type": "code",
   "execution_count": null,
   "id": "b9bc7663",
   "metadata": {},
   "outputs": [],
   "source": [
    "len(usersPerMovie['6305837325']), len(moviesPerUser['A22ZN5CJ3YQHVC'])"
   ]
  },
  {
   "cell_type": "code",
   "execution_count": null,
   "id": "5e837ea2",
   "metadata": {},
   "outputs": [],
   "source": [
    "avg_mov = defaultdict(list)\n",
    "for m in movies:\n",
    "    for d in pop_movies[:170000]:\n",
    "        if d['asin']== m:\n",
    "            avg_mov[m].append(d['overall']) \n",
    "\n",
    "for m in avg_mov:\n",
    "    avg_mov[m] = sum(avg_mov[m]) / len(avg_mov[m])"
   ]
  },
  {
   "cell_type": "code",
   "execution_count": null,
   "id": "55ffef08",
   "metadata": {},
   "outputs": [],
   "source": [
    "avg_mov['6305837325']"
   ]
  },
  {
   "cell_type": "code",
   "execution_count": null,
   "id": "376e6ebf",
   "metadata": {},
   "outputs": [],
   "source": [
    "#Feature 4 - Age of a review"
   ]
  },
  {
   "cell_type": "code",
   "execution_count": null,
   "id": "ac011f1f",
   "metadata": {},
   "outputs": [],
   "source": [
    "#First review date - December 1, 1997\n",
    "#Last review date - September 30, 2018\n",
    "#Consideration of date - Jan 1, 2019\n",
    "#Max age - 7702 days\n",
    "#Min age - 94 days\n",
    "date_string = \"Jan 1, 2019\"\n",
    "curr_dt = parser.parse(date_string)"
   ]
  },
  {
   "cell_type": "code",
   "execution_count": null,
   "id": "5534e42c",
   "metadata": {},
   "outputs": [],
   "source": [
    "#Age of a review\n",
    "age_rev = list()\n",
    "\n",
    "for d in pop_movies[:170000]:\n",
    "    dt = datetime.datetime.fromtimestamp(d['unixReviewTime'])\n",
    "    time_difference = curr_dt - dt\n",
    "    days_difference = time_difference.total_seconds() / (60 * 60 * 24)\n",
    "    age_rev.append(days_difference) "
   ]
  },
  {
   "cell_type": "code",
   "execution_count": null,
   "id": "5adb7af9",
   "metadata": {},
   "outputs": [],
   "source": []
  },
  {
   "cell_type": "code",
   "execution_count": null,
   "id": "d2e1b1dd",
   "metadata": {},
   "outputs": [],
   "source": []
  }
 ],
 "metadata": {
  "kernelspec": {
   "display_name": "Python 3 (ipykernel)",
   "language": "python",
   "name": "python3"
  },
  "language_info": {
   "codemirror_mode": {
    "name": "ipython",
    "version": 3
   },
   "file_extension": ".py",
   "mimetype": "text/x-python",
   "name": "python",
   "nbconvert_exporter": "python",
   "pygments_lexer": "ipython3",
   "version": "3.11.5"
  }
 },
 "nbformat": 4,
 "nbformat_minor": 5
}
